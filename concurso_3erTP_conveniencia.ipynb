{
 "cells": [
  {
   "cell_type": "code",
   "execution_count": 1,
   "metadata": {},
   "outputs": [],
   "source": [
    "import os\n",
    "import pandas as pd\n",
    "import numpy as np"
   ]
  },
  {
   "cell_type": "code",
   "execution_count": 2,
   "metadata": {},
   "outputs": [],
   "source": [
    "df1 = pd.read_excel('TP_concurso.xlsx')"
   ]
  },
  {
   "cell_type": "code",
   "execution_count": 3,
   "metadata": {},
   "outputs": [],
   "source": [
    "df2 = df1.loc[df1['Tipo de tienda'] == 'CONVENIENCIA']"
   ]
  },
  {
   "cell_type": "code",
   "execution_count": 4,
   "metadata": {},
   "outputs": [],
   "source": [
    "rutas_vdm = ['DIA.PROM.08','DIA.PROM.09','DIA.PROM.11','DIA.PROM.12','DIA.PROM.13'] #ahorita vemos que hacer con esto"
   ]
  },
  {
   "cell_type": "code",
   "execution_count": 5,
   "metadata": {},
   "outputs": [],
   "source": [
    "df2_conv = df2[~df2['ruta'].isin(rutas_vdm)]"
   ]
  },
  {
   "cell_type": "code",
   "execution_count": 6,
   "metadata": {},
   "outputs": [],
   "source": [
    "df2_vdm = df2[df2['ruta'].isin(rutas_vdm)]"
   ]
  },
  {
   "cell_type": "code",
   "execution_count": 7,
   "metadata": {},
   "outputs": [],
   "source": [
    "df3_conv = df2_conv[['Store Number','SEMANA','City','State','Tipo de tienda','Region','Retailer',\n",
    "'CADENA','ruta','Area Manager','Area Executive','Whisky','Tequila','Rum','Vodka']]"
   ]
  },
  {
   "cell_type": "code",
   "execution_count": 8,
   "metadata": {},
   "outputs": [],
   "source": [
    "df3_vdm = df2_vdm[['Store Number','SEMANA','City','State','Tipo de tienda','Region','Retailer',\n",
    "'CADENA','ruta','Area Manager','Area Executive','Whisky','Tequila','Rum','Vodka']]"
   ]
  },
  {
   "cell_type": "code",
   "execution_count": 9,
   "metadata": {},
   "outputs": [],
   "source": [
    "weeks = [45]"
   ]
  },
  {
   "cell_type": "code",
   "execution_count": 10,
   "metadata": {},
   "outputs": [],
   "source": [
    "weeks_headers = ['week45'] #length must be the same as previous line"
   ]
  },
  {
   "cell_type": "code",
   "execution_count": 11,
   "metadata": {},
   "outputs": [],
   "source": [
    "df4_conv = df3_conv[df3_conv['SEMANA'].isin(weeks)]"
   ]
  },
  {
   "cell_type": "code",
   "execution_count": 12,
   "metadata": {},
   "outputs": [],
   "source": [
    "df4_vdm = df3_vdm[df3_vdm['SEMANA'].isin(weeks)]"
   ]
  },
  {
   "cell_type": "code",
   "execution_count": 13,
   "metadata": {},
   "outputs": [],
   "source": [
    "df5_conv = df4_conv.groupby(['Store Number','SEMANA','City','State','Tipo de tienda','Region','Retailer','CADENA','ruta',\n",
    "'Area Manager','Area Executive']).sum().reset_index()"
   ]
  },
  {
   "cell_type": "code",
   "execution_count": 14,
   "metadata": {},
   "outputs": [],
   "source": [
    "df5_vdm = df4_vdm.groupby(['Store Number','SEMANA','City','State','Tipo de tienda','Region','Retailer','CADENA','ruta',\n",
    "'Area Manager','Area Executive']).sum().reset_index()"
   ]
  },
  {
   "cell_type": "code",
   "execution_count": 15,
   "metadata": {},
   "outputs": [],
   "source": [
    "df5_conv['Tequila Score'] = np.where((df5_conv['Whisky'] >= 2) & (df5_conv['Tequila'] >= 1), ((df5_conv['Tequila'])*2 + ((df5_conv['Whisky'])-2)), 0)\n",
    "df5_vdm['Tequila Score'] = np.where((df5_vdm['Whisky'] >= 1) & (df5_vdm['Tequila'] >= 1), ((df5_vdm['Tequila'])*2 + ((df5_vdm['Whisky'])-1)), 0)"
   ]
  },
  {
   "cell_type": "code",
   "execution_count": 16,
   "metadata": {},
   "outputs": [],
   "source": [
    "df5_conv['Rum Score'] = np.where((df5_conv['Whisky'] >= 2) & (df5_conv['Rum'] >= 1), ((df5_conv['Rum'])*1 + ((df5_conv['Whisky'])-2)), 0)\n",
    "df5_vdm['Rum Score'] = np.where((df5_vdm['Whisky'] >= 1) & (df5_vdm['Rum'] >= 1), ((df5_vdm['Rum'])*1 + ((df5_vdm['Whisky'])-1)), 0)"
   ]
  },
  {
   "cell_type": "code",
   "execution_count": 17,
   "metadata": {},
   "outputs": [],
   "source": [
    "df5_conv['Vodka Score'] = np.where((df5_conv['Whisky'] >= 2) & (df5_conv['Vodka'] >= 1), ((df5_conv['Vodka'])*1 + ((df5_conv['Whisky'])-2)), 0)\n",
    "df5_vdm['Vodka Score'] = np.where((df5_vdm['Whisky'] >= 1) & (df5_vdm['Vodka'] >= 1), ((df5_vdm['Vodka'])*1 + ((df5_vdm['Whisky'])-1)), 0)"
   ]
  },
  {
   "cell_type": "code",
   "execution_count": 18,
   "metadata": {},
   "outputs": [],
   "source": [
    "df5_conv['Whisky Score'] = np.where(df5_conv['Whisky'] >= 3, (df5_conv['Whisky'])-2, 0)\n",
    "df5_vdm['Whisky Score'] = np.where(df5_vdm['Whisky'] >= 2, (df5_vdm['Whisky'])-1, 0)"
   ]
  },
  {
   "cell_type": "code",
   "execution_count": 19,
   "metadata": {},
   "outputs": [],
   "source": [
    "df5_conv['Total Score'] = df5_conv['Tequila Score'] + df5_conv['Rum Score'] + df5_conv['Vodka Score']\n",
    "df5_vdm['Total Score'] = df5_vdm['Tequila Score'] + df5_vdm['Rum Score'] + df5_vdm['Vodka Score']"
   ]
  },
  {
   "cell_type": "code",
   "execution_count": 20,
   "metadata": {},
   "outputs": [],
   "source": [
    "def conditionA(row):\n",
    "    if row['Tequila'] >= 1:\n",
    "        return 1\n",
    "    else:\n",
    "        return 0"
   ]
  },
  {
   "cell_type": "code",
   "execution_count": 21,
   "metadata": {},
   "outputs": [],
   "source": [
    "def conditionB(row):\n",
    "    if row['Rum'] >= 1:\n",
    "        return 1\n",
    "    else:\n",
    "        return 0"
   ]
  },
  {
   "cell_type": "code",
   "execution_count": 22,
   "metadata": {},
   "outputs": [],
   "source": [
    "def conditionC(row):\n",
    "    if row['Vodka'] >= 1:\n",
    "        return 1\n",
    "    else:\n",
    "        return 0"
   ]
  },
  {
   "cell_type": "code",
   "execution_count": 23,
   "metadata": {},
   "outputs": [],
   "source": [
    "def conditionD(row):\n",
    "    if row['Whisky'] >= 1:\n",
    "        return 1\n",
    "    else:\n",
    "        return 0"
   ]
  },
  {
   "cell_type": "code",
   "execution_count": 24,
   "metadata": {},
   "outputs": [],
   "source": [
    "df5_conv['Tequila2'] = df5_conv.apply(lambda row: conditionA(row), axis=1)\n",
    "df5_vdm['Tequila2'] = df5_vdm.apply(lambda row: conditionA(row), axis=1)"
   ]
  },
  {
   "cell_type": "code",
   "execution_count": 25,
   "metadata": {},
   "outputs": [],
   "source": [
    "df5_conv['Rum2'] = df5_conv.apply(lambda row: conditionB(row), axis=1)\n",
    "df5_vdm['Rum2'] = df5_vdm.apply(lambda row: conditionB(row), axis=1)"
   ]
  },
  {
   "cell_type": "code",
   "execution_count": 26,
   "metadata": {},
   "outputs": [],
   "source": [
    "df5_conv['Vodka2'] = df5_conv.apply(lambda row: conditionC(row), axis=1)\n",
    "df5_vdm['Vodka2'] = df5_vdm.apply(lambda row: conditionC(row), axis=1)"
   ]
  },
  {
   "cell_type": "code",
   "execution_count": 27,
   "metadata": {},
   "outputs": [],
   "source": [
    "df5_conv['Whisky2'] = df5_conv.apply(lambda row: conditionD(row), axis=1)\n",
    "df5_vdm['Whisky2'] = df5_vdm.apply(lambda row: conditionD(row), axis=1)"
   ]
  },
  {
   "cell_type": "code",
   "execution_count": 28,
   "metadata": {},
   "outputs": [],
   "source": [
    "df5_conv['Tequila2'] = df5_conv['Tequila2'] / 4\n",
    "df5_conv['Rum2'] = df5_conv['Rum2'] / 4\n",
    "df5_conv['Vodka2'] = df5_conv['Vodka2'] / 4\n",
    "df5_conv['Whisky2'] = df5_conv['Whisky2'] / 4"
   ]
  },
  {
   "cell_type": "code",
   "execution_count": 29,
   "metadata": {},
   "outputs": [],
   "source": [
    "df5_vdm['Tequila2'] = df5_vdm['Tequila2'] / 4\n",
    "df5_vdm['Rum2'] = df5_vdm['Rum2'] / 4\n",
    "df5_vdm['Vodka2'] = df5_vdm['Vodka2'] / 4\n",
    "df5_vdm['Whisky2'] = df5_vdm['Whisky2'] / 4"
   ]
  },
  {
   "cell_type": "code",
   "execution_count": 30,
   "metadata": {},
   "outputs": [],
   "source": [
    "df_score_conv = df5_conv[['Store Number','ruta','SEMANA',\n",
    "'Whisky','Tequila','Rum','Vodka','Total Score']]"
   ]
  },
  {
   "cell_type": "code",
   "execution_count": 31,
   "metadata": {},
   "outputs": [],
   "source": [
    "df_score_vdm = df5_vdm[['Store Number','ruta','SEMANA',\n",
    "'Whisky','Tequila','Rum','Vodka','Total Score']]"
   ]
  },
  {
   "cell_type": "code",
   "execution_count": 32,
   "metadata": {},
   "outputs": [],
   "source": [
    "df_extrap_conv = df5_conv[['Store Number','ruta','SEMANA',\n",
    "'Tequila2','Rum2','Vodka2','Whisky2']]"
   ]
  },
  {
   "cell_type": "code",
   "execution_count": 33,
   "metadata": {},
   "outputs": [],
   "source": [
    "df_extrap_vdm = df5_vdm[['Store Number','ruta','SEMANA',\n",
    "'Tequila2','Rum2','Vodka2','Whisky2']]"
   ]
  },
  {
   "cell_type": "code",
   "execution_count": 34,
   "metadata": {},
   "outputs": [],
   "source": [
    "df_score_ruta_conv = df_score_conv.groupby(['ruta','SEMANA']).agg({\n",
    "'Store Number': 'count',\n",
    "'Whisky': 'sum',\n",
    "'Tequila': 'sum',\n",
    "'Rum': 'sum',\n",
    "'Vodka': 'sum',\n",
    "'Total Score': 'sum',\n",
    "}).reset_index()"
   ]
  },
  {
   "cell_type": "code",
   "execution_count": 35,
   "metadata": {},
   "outputs": [],
   "source": [
    "df_score_ruta_vdm = df_score_vdm.groupby(['ruta','SEMANA']).agg({\n",
    "'Store Number': 'count',\n",
    "'Whisky': 'sum',\n",
    "'Tequila': 'sum',\n",
    "'Rum': 'sum',\n",
    "'Vodka': 'sum',\n",
    "'Total Score': 'sum',\n",
    "}).reset_index()"
   ]
  },
  {
   "cell_type": "code",
   "execution_count": 36,
   "metadata": {},
   "outputs": [],
   "source": [
    "df_score_ruta_conv = df_score_ruta_conv[['ruta','SEMANA','Total Score']]"
   ]
  },
  {
   "cell_type": "code",
   "execution_count": 37,
   "metadata": {},
   "outputs": [],
   "source": [
    "df_score_ruta_vdm = df_score_ruta_vdm[['ruta','SEMANA','Total Score']]"
   ]
  },
  {
   "cell_type": "code",
   "execution_count": 38,
   "metadata": {},
   "outputs": [],
   "source": [
    "pivot_weekly_score_conv = pd.pivot_table(df_score_ruta_conv,\n",
    "index=['ruta'],\n",
    "columns=['SEMANA'], aggfunc='sum', fill_value=0).reset_index()"
   ]
  },
  {
   "cell_type": "code",
   "execution_count": 39,
   "metadata": {},
   "outputs": [],
   "source": [
    "pivot_weekly_score_vdm = pd.pivot_table(df_score_ruta_vdm,\n",
    "index=['ruta'],\n",
    "columns=['SEMANA'], aggfunc='sum', fill_value=0).reset_index()"
   ]
  },
  {
   "cell_type": "code",
   "execution_count": 40,
   "metadata": {},
   "outputs": [],
   "source": [
    "pivot_weekly_score_conv.columns = pivot_weekly_score_conv.columns.get_level_values(0)"
   ]
  },
  {
   "cell_type": "code",
   "execution_count": 41,
   "metadata": {},
   "outputs": [],
   "source": [
    "pivot_weekly_score_vdm.columns = pivot_weekly_score_vdm.columns.get_level_values(0)"
   ]
  },
  {
   "cell_type": "code",
   "execution_count": 42,
   "metadata": {},
   "outputs": [],
   "source": [
    "pivot_weekly_score_conv.columns = pivot_weekly_score_conv.columns[:1].tolist() + weeks_headers"
   ]
  },
  {
   "cell_type": "code",
   "execution_count": 43,
   "metadata": {},
   "outputs": [],
   "source": [
    "pivot_weekly_score_vdm.columns = pivot_weekly_score_vdm.columns[:1].tolist() + weeks_headers"
   ]
  },
  {
   "cell_type": "code",
   "execution_count": 44,
   "metadata": {},
   "outputs": [],
   "source": [
    "df_extrap_store_conv = df_extrap_conv.groupby(['Store Number','ruta']).agg({\n",
    "'Store Number': 'count',\n",
    "'Tequila2': 'sum',\n",
    "'Rum2': 'sum',\n",
    "'Vodka2': 'sum',\n",
    "'Whisky2': 'sum',\n",
    "})"
   ]
  },
  {
   "cell_type": "code",
   "execution_count": 45,
   "metadata": {},
   "outputs": [],
   "source": [
    "df_extrap_store_vdm = df_extrap_vdm.groupby(['Store Number','ruta']).agg({\n",
    "'Store Number': 'count',\n",
    "'Tequila2': 'sum',\n",
    "'Rum2': 'sum',\n",
    "'Vodka2': 'sum',\n",
    "'Whisky2': 'sum',\n",
    "})"
   ]
  },
  {
   "cell_type": "code",
   "execution_count": 46,
   "metadata": {},
   "outputs": [],
   "source": [
    "df_extrap_store_conv = df_extrap_store_conv.rename(columns={'Store Number': 'Weeks visited'}).reset_index()"
   ]
  },
  {
   "cell_type": "code",
   "execution_count": 47,
   "metadata": {},
   "outputs": [],
   "source": [
    "df_extrap_store_vdm = df_extrap_store_vdm.rename(columns={'Store Number': 'Weeks visited'}).reset_index()"
   ]
  },
  {
   "cell_type": "code",
   "execution_count": 48,
   "metadata": {},
   "outputs": [],
   "source": [
    "df_extrap_store_conv['Tequila EP'] = [2 if x == 1 else 0 for x in df_extrap_store_conv['Tequila2']]\n",
    "df_extrap_store_conv['Rum EP'] = [2 if x == 1 else 0 for x in df_extrap_store_conv['Rum2']]\n",
    "df_extrap_store_conv['Vodka EP'] = [2 if x == 1 else 0 for x in df_extrap_store_conv['Vodka2']]\n",
    "df_extrap_store_conv['Whisky EP'] = [2 if x == 1 else 0 for x in df_extrap_store_conv['Whisky2']]\n",
    "df_extrap_store_conv['Total EP'] = df_extrap_store_conv['Tequila EP'] + df_extrap_store_conv['Rum EP'] + df_extrap_store_conv['Vodka EP'] + df_extrap_store_conv['Whisky EP']"
   ]
  },
  {
   "cell_type": "code",
   "execution_count": 49,
   "metadata": {},
   "outputs": [],
   "source": [
    "df_extrap_store_vdm['Tequila EP'] = [2 if x == 1 else 0 for x in df_extrap_store_vdm['Tequila2']]\n",
    "df_extrap_store_vdm['Rum EP'] = [2 if x == 1 else 0 for x in df_extrap_store_vdm['Rum2']]\n",
    "df_extrap_store_vdm['Vodka EP'] = [2 if x == 1 else 0 for x in df_extrap_store_vdm['Vodka2']]\n",
    "df_extrap_store_vdm['Whisky EP'] = [2 if x == 1 else 0 for x in df_extrap_store_vdm['Whisky2']]\n",
    "df_extrap_store_vdm['Total EP'] = df_extrap_store_vdm['Tequila EP'] + df_extrap_store_vdm['Rum EP'] + df_extrap_store_vdm['Vodka EP'] + df_extrap_store_vdm['Whisky EP']"
   ]
  },
  {
   "cell_type": "code",
   "execution_count": 50,
   "metadata": {},
   "outputs": [],
   "source": [
    "df_extrap_store_conv = df_extrap_store_conv[['Store Number','ruta','Weeks visited','Tequila EP','Rum EP','Vodka EP','Whisky EP','Total EP']]"
   ]
  },
  {
   "cell_type": "code",
   "execution_count": 51,
   "metadata": {},
   "outputs": [],
   "source": [
    "df_extrap_store_vdm = df_extrap_store_vdm[['Store Number','ruta','Weeks visited','Tequila EP','Rum EP','Vodka EP','Whisky EP','Total EP']]"
   ]
  },
  {
   "cell_type": "code",
   "execution_count": 52,
   "metadata": {},
   "outputs": [],
   "source": [
    "df_extrap_ruta_conv = df_extrap_store_conv[['ruta','Total EP']]"
   ]
  },
  {
   "cell_type": "code",
   "execution_count": 53,
   "metadata": {},
   "outputs": [],
   "source": [
    "df_extrap_ruta_vdm = df_extrap_store_vdm[['ruta','Total EP']]"
   ]
  },
  {
   "cell_type": "code",
   "execution_count": 54,
   "metadata": {},
   "outputs": [],
   "source": [
    "df_extrap_ruta_conv = df_extrap_ruta_conv.groupby('ruta').sum().reset_index()"
   ]
  },
  {
   "cell_type": "code",
   "execution_count": 55,
   "metadata": {},
   "outputs": [],
   "source": [
    "df_extrap_ruta_vdm = df_extrap_ruta_vdm.groupby('ruta').sum().reset_index()"
   ]
  },
  {
   "cell_type": "code",
   "execution_count": 56,
   "metadata": {},
   "outputs": [],
   "source": [
    "pivot_weekly_score_consolidated = pivot_weekly_score_conv.append(pivot_weekly_score_vdm)"
   ]
  },
  {
   "cell_type": "code",
   "execution_count": 57,
   "metadata": {},
   "outputs": [],
   "source": [
    "df_extrap_ruta_consolidated = df_extrap_ruta_conv.append(df_extrap_ruta_vdm)"
   ]
  },
  {
   "cell_type": "code",
   "execution_count": 58,
   "metadata": {},
   "outputs": [],
   "source": [
    "df_leaderboard = pivot_weekly_score_consolidated.merge(df_extrap_ruta_consolidated, on='ruta')"
   ]
  },
  {
   "cell_type": "code",
   "execution_count": 59,
   "metadata": {},
   "outputs": [],
   "source": [
    "df_leaderboard['Final Score'] = df_leaderboard.sum(axis=1, numeric_only=True)"
   ]
  },
  {
   "cell_type": "code",
   "execution_count": 60,
   "metadata": {},
   "outputs": [],
   "source": [
    "df_leaderboard = df_leaderboard.sort_values(by='Final Score', ascending=False)"
   ]
  },
  {
   "cell_type": "code",
   "execution_count": 61,
   "metadata": {},
   "outputs": [],
   "source": [
    "df_leaderboard['Lugar'] = np.arange(1,len(df_leaderboard)+1)"
   ]
  },
  {
   "cell_type": "code",
   "execution_count": 62,
   "metadata": {},
   "outputs": [],
   "source": [
    "df_score_consolidated = df_score_conv.append(df_score_vdm)"
   ]
  },
  {
   "cell_type": "code",
   "execution_count": 63,
   "metadata": {},
   "outputs": [],
   "source": [
    "df_extrap_store_consolidated = df_extrap_store_conv.append(df_extrap_store_vdm)"
   ]
  },
  {
   "cell_type": "code",
   "execution_count": 64,
   "metadata": {},
   "outputs": [
    {
     "data": {
      "text/html": [
       "<div>\n",
       "<style scoped>\n",
       "    .dataframe tbody tr th:only-of-type {\n",
       "        vertical-align: middle;\n",
       "    }\n",
       "\n",
       "    .dataframe tbody tr th {\n",
       "        vertical-align: top;\n",
       "    }\n",
       "\n",
       "    .dataframe thead th {\n",
       "        text-align: right;\n",
       "    }\n",
       "</style>\n",
       "<table border=\"1\" class=\"dataframe\">\n",
       "  <thead>\n",
       "    <tr style=\"text-align: right;\">\n",
       "      <th></th>\n",
       "      <th>ruta</th>\n",
       "      <th>week45</th>\n",
       "      <th>Total EP</th>\n",
       "      <th>Final Score</th>\n",
       "      <th>Lugar</th>\n",
       "    </tr>\n",
       "  </thead>\n",
       "  <tbody>\n",
       "    <tr>\n",
       "      <th>10</th>\n",
       "      <td>DIA.PROM.16</td>\n",
       "      <td>769</td>\n",
       "      <td>0</td>\n",
       "      <td>769</td>\n",
       "      <td>1</td>\n",
       "    </tr>\n",
       "    <tr>\n",
       "      <th>17</th>\n",
       "      <td>DIA.PROM.23</td>\n",
       "      <td>680</td>\n",
       "      <td>0</td>\n",
       "      <td>680</td>\n",
       "      <td>2</td>\n",
       "    </tr>\n",
       "    <tr>\n",
       "      <th>16</th>\n",
       "      <td>DIA.PROM.22</td>\n",
       "      <td>311</td>\n",
       "      <td>0</td>\n",
       "      <td>311</td>\n",
       "      <td>3</td>\n",
       "    </tr>\n",
       "    <tr>\n",
       "      <th>0</th>\n",
       "      <td>DIA.PROM.01</td>\n",
       "      <td>216</td>\n",
       "      <td>0</td>\n",
       "      <td>216</td>\n",
       "      <td>4</td>\n",
       "    </tr>\n",
       "    <tr>\n",
       "      <th>9</th>\n",
       "      <td>DIA.PROM.15</td>\n",
       "      <td>187</td>\n",
       "      <td>0</td>\n",
       "      <td>187</td>\n",
       "      <td>5</td>\n",
       "    </tr>\n",
       "  </tbody>\n",
       "</table>\n",
       "</div>"
      ],
      "text/plain": [
       "           ruta  week45  Total EP  Final Score  Lugar\n",
       "10  DIA.PROM.16     769         0          769      1\n",
       "17  DIA.PROM.23     680         0          680      2\n",
       "16  DIA.PROM.22     311         0          311      3\n",
       "0   DIA.PROM.01     216         0          216      4\n",
       "9   DIA.PROM.15     187         0          187      5"
      ]
     },
     "execution_count": 64,
     "metadata": {},
     "output_type": "execute_result"
    }
   ],
   "source": [
    "df_leaderboard.head() #portada del sitio web, ordenar del primer al ultimo lugar"
   ]
  },
  {
   "cell_type": "code",
   "execution_count": 65,
   "metadata": {},
   "outputs": [
    {
     "data": {
      "text/html": [
       "<div>\n",
       "<style scoped>\n",
       "    .dataframe tbody tr th:only-of-type {\n",
       "        vertical-align: middle;\n",
       "    }\n",
       "\n",
       "    .dataframe tbody tr th {\n",
       "        vertical-align: top;\n",
       "    }\n",
       "\n",
       "    .dataframe thead th {\n",
       "        text-align: right;\n",
       "    }\n",
       "</style>\n",
       "<table border=\"1\" class=\"dataframe\">\n",
       "  <thead>\n",
       "    <tr style=\"text-align: right;\">\n",
       "      <th></th>\n",
       "      <th>Store Number</th>\n",
       "      <th>ruta</th>\n",
       "      <th>Weeks visited</th>\n",
       "      <th>Tequila EP</th>\n",
       "      <th>Rum EP</th>\n",
       "      <th>Vodka EP</th>\n",
       "      <th>Whisky EP</th>\n",
       "      <th>Total EP</th>\n",
       "    </tr>\n",
       "  </thead>\n",
       "  <tbody>\n",
       "    <tr>\n",
       "      <th>0</th>\n",
       "      <td>5416</td>\n",
       "      <td>DIA.PROM.01</td>\n",
       "      <td>1</td>\n",
       "      <td>0</td>\n",
       "      <td>0</td>\n",
       "      <td>0</td>\n",
       "      <td>0</td>\n",
       "      <td>0</td>\n",
       "    </tr>\n",
       "    <tr>\n",
       "      <th>1</th>\n",
       "      <td>5427</td>\n",
       "      <td>DIA.PROM.01</td>\n",
       "      <td>1</td>\n",
       "      <td>0</td>\n",
       "      <td>0</td>\n",
       "      <td>0</td>\n",
       "      <td>0</td>\n",
       "      <td>0</td>\n",
       "    </tr>\n",
       "    <tr>\n",
       "      <th>2</th>\n",
       "      <td>5435</td>\n",
       "      <td>DIA.PROM.03</td>\n",
       "      <td>1</td>\n",
       "      <td>0</td>\n",
       "      <td>0</td>\n",
       "      <td>0</td>\n",
       "      <td>0</td>\n",
       "      <td>0</td>\n",
       "    </tr>\n",
       "    <tr>\n",
       "      <th>3</th>\n",
       "      <td>5438</td>\n",
       "      <td>DIA.PROM.01</td>\n",
       "      <td>1</td>\n",
       "      <td>0</td>\n",
       "      <td>0</td>\n",
       "      <td>0</td>\n",
       "      <td>0</td>\n",
       "      <td>0</td>\n",
       "    </tr>\n",
       "    <tr>\n",
       "      <th>4</th>\n",
       "      <td>5440</td>\n",
       "      <td>DIA.PROM.01</td>\n",
       "      <td>1</td>\n",
       "      <td>0</td>\n",
       "      <td>0</td>\n",
       "      <td>0</td>\n",
       "      <td>0</td>\n",
       "      <td>0</td>\n",
       "    </tr>\n",
       "  </tbody>\n",
       "</table>\n",
       "</div>"
      ],
      "text/plain": [
       "   Store Number         ruta  Weeks visited  Tequila EP  Rum EP  Vodka EP  \\\n",
       "0          5416  DIA.PROM.01              1           0       0         0   \n",
       "1          5427  DIA.PROM.01              1           0       0         0   \n",
       "2          5435  DIA.PROM.03              1           0       0         0   \n",
       "3          5438  DIA.PROM.01              1           0       0         0   \n",
       "4          5440  DIA.PROM.01              1           0       0         0   \n",
       "\n",
       "   Whisky EP  Total EP  \n",
       "0          0         0  \n",
       "1          0         0  \n",
       "2          0         0  \n",
       "3          0         0  \n",
       "4          0         0  "
      ]
     },
     "execution_count": 65,
     "metadata": {},
     "output_type": "execute_result"
    }
   ],
   "source": [
    "df_extrap_store_consolidated.head() #usar esta en una pagina para comprobar puntos extra"
   ]
  },
  {
   "cell_type": "code",
   "execution_count": 66,
   "metadata": {},
   "outputs": [
    {
     "data": {
      "text/html": [
       "<div>\n",
       "<style scoped>\n",
       "    .dataframe tbody tr th:only-of-type {\n",
       "        vertical-align: middle;\n",
       "    }\n",
       "\n",
       "    .dataframe tbody tr th {\n",
       "        vertical-align: top;\n",
       "    }\n",
       "\n",
       "    .dataframe thead th {\n",
       "        text-align: right;\n",
       "    }\n",
       "</style>\n",
       "<table border=\"1\" class=\"dataframe\">\n",
       "  <thead>\n",
       "    <tr style=\"text-align: right;\">\n",
       "      <th></th>\n",
       "      <th>Store Number</th>\n",
       "      <th>ruta</th>\n",
       "      <th>SEMANA</th>\n",
       "      <th>Whisky</th>\n",
       "      <th>Tequila</th>\n",
       "      <th>Rum</th>\n",
       "      <th>Vodka</th>\n",
       "      <th>Total Score</th>\n",
       "    </tr>\n",
       "  </thead>\n",
       "  <tbody>\n",
       "    <tr>\n",
       "      <th>0</th>\n",
       "      <td>5416</td>\n",
       "      <td>DIA.PROM.01</td>\n",
       "      <td>45</td>\n",
       "      <td>4</td>\n",
       "      <td>0</td>\n",
       "      <td>0</td>\n",
       "      <td>1</td>\n",
       "      <td>3</td>\n",
       "    </tr>\n",
       "    <tr>\n",
       "      <th>1</th>\n",
       "      <td>5427</td>\n",
       "      <td>DIA.PROM.01</td>\n",
       "      <td>45</td>\n",
       "      <td>4</td>\n",
       "      <td>0</td>\n",
       "      <td>1</td>\n",
       "      <td>0</td>\n",
       "      <td>3</td>\n",
       "    </tr>\n",
       "    <tr>\n",
       "      <th>2</th>\n",
       "      <td>5435</td>\n",
       "      <td>DIA.PROM.03</td>\n",
       "      <td>45</td>\n",
       "      <td>1</td>\n",
       "      <td>0</td>\n",
       "      <td>0</td>\n",
       "      <td>0</td>\n",
       "      <td>0</td>\n",
       "    </tr>\n",
       "    <tr>\n",
       "      <th>3</th>\n",
       "      <td>5438</td>\n",
       "      <td>DIA.PROM.01</td>\n",
       "      <td>45</td>\n",
       "      <td>2</td>\n",
       "      <td>1</td>\n",
       "      <td>0</td>\n",
       "      <td>0</td>\n",
       "      <td>2</td>\n",
       "    </tr>\n",
       "    <tr>\n",
       "      <th>4</th>\n",
       "      <td>5440</td>\n",
       "      <td>DIA.PROM.01</td>\n",
       "      <td>45</td>\n",
       "      <td>2</td>\n",
       "      <td>1</td>\n",
       "      <td>0</td>\n",
       "      <td>0</td>\n",
       "      <td>2</td>\n",
       "    </tr>\n",
       "  </tbody>\n",
       "</table>\n",
       "</div>"
      ],
      "text/plain": [
       "   Store Number         ruta  SEMANA  Whisky  Tequila  Rum  Vodka  Total Score\n",
       "0          5416  DIA.PROM.01      45       4        0    0      1            3\n",
       "1          5427  DIA.PROM.01      45       4        0    1      0            3\n",
       "2          5435  DIA.PROM.03      45       1        0    0      0            0\n",
       "3          5438  DIA.PROM.01      45       2        1    0      0            2\n",
       "4          5440  DIA.PROM.01      45       2        1    0      0            2"
      ]
     },
     "execution_count": 66,
     "metadata": {},
     "output_type": "execute_result"
    }
   ],
   "source": [
    "df_score_consolidated.head() #usar esta en una pagina para comprobar puntos base, con filtros en store, ruta y semana "
   ]
  },
  {
   "cell_type": "code",
   "execution_count": 67,
   "metadata": {},
   "outputs": [],
   "source": [
    "df_leaderboard = df_leaderboard.rename(columns={\n",
    "'Total EP': 'ep',\n",
    "'Final Score': 'fs'\n",
    "})"
   ]
  },
  {
   "cell_type": "code",
   "execution_count": 68,
   "metadata": {},
   "outputs": [],
   "source": [
    "df_extrap_store_consolidated = df_extrap_store_consolidated.rename(columns={\n",
    "'Store Number': 'store',\n",
    "'SEMANA': 'week',\n",
    "'Weeks visited': 'wv',\n",
    "'Whisky EP': 'whisky',\n",
    "'Tequila EP': 'tequila',\n",
    "'Rum EP': 'ron',\n",
    "'Vodka EP': 'vodka',\n",
    "'Total EP': 'ep'\n",
    "})"
   ]
  },
  {
   "cell_type": "code",
   "execution_count": 69,
   "metadata": {},
   "outputs": [],
   "source": [
    "df_score_consolidated = df_score_consolidated.rename(columns={\n",
    "'Store Number': 'store',\n",
    "'SEMANA': 'week',\n",
    "'Whisky': 'whisky',\n",
    "'Tequila': 'tequila',\n",
    "'Rum': 'rum',\n",
    "'Vodka': 'vodka',\n",
    "'Total Score': 'score'\n",
    "})"
   ]
  },
  {
   "cell_type": "code",
   "execution_count": 70,
   "metadata": {},
   "outputs": [],
   "source": [
    "df2_store_names = df2[['Store Number','Store Name']]"
   ]
  },
  {
   "cell_type": "code",
   "execution_count": 71,
   "metadata": {},
   "outputs": [],
   "source": [
    "df2_store_names = df2_store_names.rename(columns={\n",
    "'Store Number': 'store',\n",
    "'Store Name': 'name'\n",
    "})"
   ]
  },
  {
   "cell_type": "code",
   "execution_count": 72,
   "metadata": {},
   "outputs": [],
   "source": [
    "df2_store_names = df2_store_names.drop_duplicates(subset='store')"
   ]
  },
  {
   "cell_type": "code",
   "execution_count": 73,
   "metadata": {},
   "outputs": [],
   "source": [
    "df_score_consolidated = df_score_consolidated.merge(df2_store_names, how='left')"
   ]
  },
  {
   "cell_type": "code",
   "execution_count": 74,
   "metadata": {},
   "outputs": [],
   "source": [
    "df_score_consolidated = df_score_consolidated[['name','ruta','week','whisky','tequila','rum','vodka','score']]"
   ]
  },
  {
   "cell_type": "code",
   "execution_count": 75,
   "metadata": {},
   "outputs": [],
   "source": [
    "df_leaderboard.to_json('leaderboard_conv.js', orient='records')"
   ]
  },
  {
   "cell_type": "code",
   "execution_count": 76,
   "metadata": {},
   "outputs": [],
   "source": [
    "df_score_consolidated.to_json('score_conv.js', orient='records')"
   ]
  }
 ],
 "metadata": {
  "kernelspec": {
   "display_name": "Python 3",
   "language": "python",
   "name": "python3"
  },
  "language_info": {
   "codemirror_mode": {
    "name": "ipython",
    "version": 3
   },
   "file_extension": ".py",
   "mimetype": "text/x-python",
   "name": "python",
   "nbconvert_exporter": "python",
   "pygments_lexer": "ipython3",
   "version": "3.8.3"
  }
 },
 "nbformat": 4,
 "nbformat_minor": 4
}
